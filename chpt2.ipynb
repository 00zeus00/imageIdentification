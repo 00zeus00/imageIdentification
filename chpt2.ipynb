{
 "cells": [
  {
   "cell_type": "markdown",
   "metadata": {},
   "source": [
    "# 2 图像点运算"
   ]
  },
  {
   "cell_type": "markdown",
   "metadata": {},
   "source": [
    "# 2.1 图像的直方图"
   ]
  },
  {
   "cell_type": "markdown",
   "metadata": {},
   "source": [
    "\n",
    "&nbsp;&nbsp;&nbsp;&nbsp;&nbsp;图像的直方图是图像的重要统计特征，它可以认为是图像灰度密度函数的近似。直方图虽然不能直接反映出图像内容，但对它进行分析可以得出图像的一些有用特征，这些特征能反映出图像的特点。当图像对比度较小时，它的灰度直方图只在灰度轴上较小的一段区间上非零，较暗的图像由于较多的像素灰度值低，因此它的直方图的主体出现在低值灰度区间上，其在高值灰度区间上的幅度较小或为零，而较亮的图像情况正好相反。通常一幅均匀量化的自然图像的灰度直方图在低值灰度区间上频率较大，这样的图像较暗区域中的细节常常看不清楚。为使图像变清晰，可以通过变换使图像的灰度动态范围变大，并且让灰度频率较小的灰度级经变换后，其频率变得大一些，使变换后的图像灰度直方图在较大的动态范围内趋于均化。事实证明，通过图像直方图修改进行图像增强是一种有效的方法。"
   ]
  },
  {
   "cell_type": "markdown",
   "metadata": {},
   "source": [
    "&nbsp;&nbsp;&nbsp;&nbsp;&nbsp;计算并显示直方图\n",
    "与C++中一样，在Python中调用的OpenCV直方图计算函数为cv2.calcHist。\n",
    "cv2.calcHist的原型为：<br>\n",
    "&nbsp;&nbsp;&nbsp;&nbsp;&nbsp;cv2.calcHist(images, channels, mask, histSize, ranges[, hist[, accumulate ]]) #返回hist<br>\n",
    "其中\n",
    "&nbsp;&nbsp;&nbsp;&nbsp;&nbsp;第一个参数必须用方括号括起来。<br>\n",
    "&nbsp;&nbsp;&nbsp;&nbsp;&nbsp;第二个参数是用于计算直方图的通道，这里使用灰度图计算直方图，所以就直接使用第一个通道；<br>\n",
    "&nbsp;&nbsp;&nbsp;&nbsp;&nbsp;第三个参数是Mask，这里没有使用，所以用None。<br>\n",
    "&nbsp;&nbsp;&nbsp;&nbsp;&nbsp;第四个参数是histSize，表示这个直方图分成多少份（即多少个直方柱）。第二个例子将绘出直方图，到时候会清楚一点。<br>\n",
    "&nbsp;&nbsp;&nbsp;&nbsp;&nbsp;第五个参数是表示直方图中各个像素的值，[0.0, 256.0]表示直方图能表示像素值从0.0到256的像素。<br>\n",
    "&nbsp;&nbsp;&nbsp;&nbsp;&nbsp;最后是两个可选参数，由于直方图作为函数结果返回了，所以第六个hist就没有意义了（待确定）<br>\n",
    "&nbsp;&nbsp;&nbsp;&nbsp;&nbsp;最后一个accumulate是一个布尔值，用来表示直方图是否叠加。<br>\n",
    "&nbsp;&nbsp;&nbsp;&nbsp;&nbsp;彩色图像不同通道的直方图<br>"
   ]
  },
  {
   "cell_type": "markdown",
   "metadata": {},
   "source": [
    "&nbsp;&nbsp;&nbsp;&nbsp;&nbsp;下面来看下彩色图像的直方图处理。以最著名的lena.jpg为例，首先读取并分离各通道："
   ]
  },
  {
   "cell_type": "code",
   "execution_count": 9,
   "metadata": {},
   "outputs": [],
   "source": [
    "#引入相关的包\n",
    "import cv2\n",
    "import numpy as np\n",
    "import matplotlib.pyplot as plt\n"
   ]
  },
  {
   "cell_type": "code",
   "execution_count": 10,
   "metadata": {},
   "outputs": [],
   "source": [
    "#绘制直方图的函数\n",
    "def calcAndDrawHist(image, color):  \n",
    "    hist= cv2.calcHist([image], [0], None, [256], [0.0,255.0])  \n",
    "    minVal, maxVal, minLoc, maxLoc = cv2.minMaxLoc(hist)  \n",
    "    histImg = np.zeros([256,256,3], np.uint8)  \n",
    "    hpt = int(0.9* 256);      \n",
    "    for h in range(256):  \n",
    "        intensity = int(hist[h]*hpt/maxVal)  \n",
    "        cv2.line(histImg,(h,256), (h,256-intensity), color)          \n",
    "    return histImg; "
   ]
  },
  {
   "cell_type": "code",
   "execution_count": 11,
   "metadata": {},
   "outputs": [],
   "source": [
    "#绘制直方图\n",
    "img = cv2.imread('C:\\\\Users\\\\lenovo\\\\ImageProcess\\\\road.jpg')\n",
    "b, g, r = cv2.split(img) \n",
    "histImgB = calcAndDrawHist(b, [255, 0, 0])  \n",
    "histImgG = calcAndDrawHist(g, [0, 255, 0])  \n",
    "histImgR = calcAndDrawHist(r, [0, 0, 255])  \n",
    "cv2.imshow(\"histImgB\", histImgB)  \n",
    "cv2.imshow(\"histImgG\", histImgG)  \n",
    "cv2.imshow(\"histImgR\", histImgR)  \n",
    "cv2.imshow(\"Img\", img)  \n",
    "cv2.waitKey(0)  \n",
    "cv2.destroyAllWindows() "
   ]
  },
  {
   "cell_type": "markdown",
   "metadata": {},
   "source": [
    "# 2.2 灰度变换"
   ]
  },
  {
   "cell_type": "markdown",
   "metadata": {},
   "source": [
    "## 2.2.1灰度的线性变换"
   ]
  },
  {
   "cell_type": "markdown",
   "metadata": {},
   "source": [
    "&nbsp;&nbsp;&nbsp;&nbsp;&nbsp;图像的灰度线性变换是通过建立灰度映射来调整原始图像的灰度，从而改善图像的质量，凸显图像的细节，提高图像的对比度。灰度线性变换的计算公式如下所示：<br>\n",
    "<center>$ D_b = f(D_a)+b $</center><br>\n",
    "&nbsp;&nbsp;&nbsp;&nbsp;&nbsp;该公式中$D_b$表示灰度线性变换后的灰度值，$D_a$表示变换前输入图像的灰度值，α和b为线性变<换方程f(D)的参数，分别表示斜率和截距。<br>\n",
    "&nbsp;&nbsp;&nbsp;&nbsp;&nbsp;当α=1，b=0时，保持原始图像<br>\n",
    "&nbsp;&nbsp;&nbsp;&nbsp;&nbsp;当α=1，b!=0时，图像所有的灰度值上移或下移<br>\n",
    "&nbsp;&nbsp;&nbsp;&nbsp;&nbsp;当α=-1，b=255时，原始图像的灰度值反转<br>\n",
    "&nbsp;&nbsp;&nbsp;&nbsp;&nbsp;当α>1时，输出图像的对比度增强<br>\n",
    "&nbsp;&nbsp;&nbsp;&nbsp;&nbsp;当$0<\\alpha<1$时，输出图像的对比度减小<br>\n",
    "&nbsp;&nbsp;&nbsp;&nbsp;&nbsp;当$\\alpha<0$时原始图像暗区域变亮，亮区域变暗，图像求补<br>\n"
   ]
  },
  {
   "cell_type": "code",
   "execution_count": null,
   "metadata": {},
   "outputs": [],
   "source": []
  },
  {
   "cell_type": "code",
   "execution_count": 12,
   "metadata": {},
   "outputs": [],
   "source": [
    "#导入必要的包\n",
    "import cv2  \n",
    "import numpy as np  \n",
    "import matplotlib.pyplot as plt\n",
    "import math"
   ]
  },
  {
   "cell_type": "code",
   "execution_count": 13,
   "metadata": {},
   "outputs": [],
   "source": [
    "#灰度图像的线性变换\n",
    "# -*- coding: utf-8 -*-\n",
    "#读取原始图像\n",
    "img = cv2.imread('C:\\\\Users\\\\lenovo\\\\ImageProcess\\\\road.jpg')\n",
    "\n",
    "#图像灰度转换\n",
    "grayImage = cv2.cvtColor(img, cv2.COLOR_BGR2GRAY)\n",
    "\n",
    "#获取图像高度和宽度\n",
    "height = grayImage.shape[0]\n",
    "width = grayImage.shape[1]\n",
    "\n",
    "#创建一幅图像\n",
    "result = np.zeros((height, width), np.uint8)\n",
    "\n",
    "#图像灰度上移变换 DB=DA+50\n",
    "#调节不同的a和b的值，产生不同的图像效果\n",
    "a=1.5\n",
    "b=0\n",
    "for i in range(height):\n",
    "    for j in range(width):\n",
    "        \n",
    "        if (int(a*grayImage[i,j]+b) > 255):\n",
    "            gray = 255\n",
    "        else:\n",
    "            gray = int(a*grayImage[i,j]+b)\n",
    "            \n",
    "        result[i,j] = np.uint8(gray)\n",
    "\n",
    "#显示图像\n",
    "cv2.imshow(\"Gray Image\", grayImage)\n",
    "cv2.imshow(\"Result\", result)\n",
    "\n",
    "#等待显示\n",
    "cv2.waitKey(0)\n",
    "cv2.destroyAllWindows()\n"
   ]
  },
  {
   "cell_type": "markdown",
   "metadata": {},
   "source": [
    "## 2.2.2灰度的非线性变换"
   ]
  },
  {
   "cell_type": "markdown",
   "metadata": {},
   "source": [
    "一、灰度的对数变换\n",
    "对数变换的一般表达式如下：<br>\n",
    "<center>$t=c\\log(1+s)$</center>\n",
    "其中$c$为尺度比例常数，$s$为源灰度值，$t$为变换后的目标灰度值。\n",
    "对数曲线中，函数自变量值低时，曲线斜率大；自变量越大，曲线斜率越小。对数变换经常用于增强图像中较暗部分的细节。\n",
    "<img src=\"imgs/logcurve.jpg\" width=\"40%\">"
   ]
  },
  {
   "cell_type": "code",
   "execution_count": 14,
   "metadata": {},
   "outputs": [],
   "source": [
    "#对数变换\n",
    "# -*- coding: utf-8 -*-\n",
    "#读取原始图像\n",
    "img = cv2.imread('C:\\\\Users\\\\lenovo\\\\ImageProcess\\\\road.jpg')\n",
    "#图像灰度转换\n",
    "grayImage = cv2.cvtColor(img, cv2.COLOR_BGR2GRAY)\n",
    "#获取图像高度和宽度\n",
    "height = grayImage.shape[0]\n",
    "width = grayImage.shape[1]\n",
    "#创建一幅图像\n",
    "result = np.zeros((height, width), np.uint8)\n",
    "for i in range(height):\n",
    "    for j in range(width):\n",
    "        gray=35 * math.log(1 + grayImage[i][j])\n",
    "        result[i,j] = np.uint8(gray)\n",
    "#显示图像\n",
    "cv2.imshow(\"Gray Image\", grayImage)\n",
    "cv2.imshow(\"Result\", result)\n",
    "#等待显示\n",
    "cv2.waitKey(0)\n",
    "cv2.destroyAllWindows()"
   ]
  },
  {
   "cell_type": "markdown",
   "metadata": {},
   "source": [
    "二、灰度的$\\gamma$变换、分段变换、阈值变换<br>\n",
    "&nbsp;&nbsp;&nbsp;&nbsp;&nbsp;参考《数字图像处理与机器视觉》3.4、3.5、3.6节，自行编写程序练习。"
   ]
  },
  {
   "cell_type": "markdown",
   "metadata": {},
   "source": [
    "## 2.3 直方图均衡化"
   ]
  },
  {
   "cell_type": "markdown",
   "metadata": {},
   "source": [
    "为什么要直方图均衡化：<br>\n",
    "在现实的拍摄过程中，比如说视频监控领域，由于其图像的灰度分布集中在较窄的范围内，这就导致了图像的细节不够清晰。为什么不清晰呢，因为灰度分布较窄时，那么，在计算对比度的时候，对比度就很小，所以就不清晰。为了使得图像变得清晰，那么就需要使得灰度值的差别变大，为了使得灰度值的差别变大，就意味着灰度分布就变的较宽，使得灰度值分布变得均匀，在某个灰度级区间内，像素的个数分布大致相同，这样才能使得图像的对比度增强，细节变得清晰可见。\n",
    "\n",
    "目标：将直方图变换为一条水平直线，也就是说各种灰度的像素值在图像中均出现，提高图像的动态范围。<br>\n",
    "<img src=\"imgs/imageEqu.png\" width=\"40%\">\n",
    "方法：寻求一种变换函数能够将原始图像的直方图函数变换为灰度分布函数为一条水平直线。<br>\n",
    "基本原理：目标推导一个由原图像灰度分布变换到直方图均衡化的函数。<br>\n",
    "      <center>$s=T(r),0 \\leq r \\leq L-1$</center><br>\n",
    "&nbsp;&nbsp;&nbsp;&nbsp;&nbsp;$r$代表原图的像素灰度值，$s$即为变换后灰度。<br>\n",
    "为便于分析，先考虑灰度范围是[0,1]且连续的情况。此时图像的直方图是一个概率密度函数PDF。\n",
    "    <center>$p(x),0\\leq x \\leq 1$</center>\n",
    " 由概率密度函数的性质可知：<br>\n",
    "    <center>$\\int_0^1{p(x)dx}=1$</center><br>\n",
    "   则令原图中的灰度分布的概率密度为$p_r(r)$，变换后概率密度为$p_s(s)$。<br>\n",
    "<center>$p_s(s)=p_r(r)\\frac{dr}{ds}$</center><br>\n",
    "如果使转换后图像灰度的概率分布为1，即：$p_s(s)=1,0\\leq s \\leq 1$, 即直方图是均匀的，则必须满足下式：\n",
    "<center>$p_r(r)=\\frac{ds}{dr}$</center><br>\n",
    "等式两边积分，可得下试：\n",
    "<center>$s=f(r)=\\int_0^r{p_r(u)du}$<br></center>\n",
    "以上公式是用灰度值在[0,255]范围内推导出来的，对于[0,255]的情况只需要乘以最大灰度值$D_{max}$.<br>\n",
    "<center>$D_B=f(D_A)=D_{max}\\int_0^r{p_{D_A}r(\\mu)d\\mu}$<br></center>\n",
    "式中，$D_B$为转换后的灰度值，$D_A$为转换前的灰度值。\n",
    "对于离散灰度级，相应的转换公式如下：\n",
    "<center>$D_B=f(D_A)=\\frac{D_{max}}{A_0}\\sum_0^{D_A}{H_i}$</center>\n",
    "其中，$H_i$为第i级像素的个数，$A_0$是图像的面积，即像素的总数。<br>\n",
    "该函数有两个主要特点：<br>\n",
    "1.单调递增，即从原灰度r映射到s值是一一对应的，不会有多个灰度级映射到同一灰度上，便可求逆变换。<br>\n",
    "2.从形式上可知函数的定义域和值域范围均为[0,L-1]。 不会发生灰度值越界情况。"
   ]
  },
  {
   "cell_type": "markdown",
   "metadata": {},
   "source": [
    "### 2.3.1 直方图均衡化代码：不使用Opencv，使用PIL—The PythonImaging Library "
   ]
  },
  {
   "cell_type": "code",
   "execution_count": 15,
   "metadata": {},
   "outputs": [
    {
     "name": "stderr",
     "output_type": "stream",
     "text": [
      "D:\\Anaconda3\\lib\\site-packages\\ipykernel_launcher.py:10: VisibleDeprecationWarning: Passing `normed=True` on non-uniform bins has always been broken, and computes neither the probability density function nor the probability mass function. The result is only correct if the bins are uniform, when density=True will produce the same result anyway. The argument will be removed in a future version of numpy.\n",
      "  # Remove the CWD from sys.path while we load stuff.\n"
     ]
    },
    {
     "data": {
      "image/png": "[encoded data removed]",
      "text/plain": [
       "<Figure size 432x288 with 1 Axes>"
      ]
     },
     "metadata": {
      "needs_background": "light"
     },
     "output_type": "display_data"
    },
    {
     "data": {
      "image/png": "[encoded data removed]",
      "text/plain": [
       "<Figure size 432x288 with 1 Axes>"
      ]
     },
     "metadata": {
      "needs_background": "light"
     },
     "output_type": "display_data"
    }
   ],
   "source": [
    "from PIL import Image\n",
    "from pylab import *\n",
    "from numpy import *\n",
    "\n",
    "\n",
    "def histeq(im,nbr_bins = 256):\n",
    "    \"\"\"对一幅灰度图像进行直方图均衡化\"\"\"\n",
    "    #计算图像的直方图\n",
    "    #在numpy中，也提供了一个计算直方图的函数histogram(),第一个返回的是直方图的统计量，第二个为每个bins的中间值\n",
    "    imhist,bins = histogram(im.flatten(),nbr_bins,normed= True)\n",
    "    cdf = imhist.cumsum()   #\n",
    "    cdf = 255.0 * cdf / cdf[-1]\n",
    "    #使用累积分布函数的线性插值，计算新的像素值\n",
    "    im2 = interp(im.flatten(),bins[:-1],cdf)\n",
    "    return im2.reshape(im.shape),cdf\n",
    "\n",
    "pil_im = Image.open('C:\\\\Users\\\\lenovo\\\\ImageProcess\\\\road.jpg')   #打开原图\n",
    "pil_im_gray = pil_im.convert('L')     #转化为灰度图像\n",
    "pil_im_gray.show()         #显示灰度图像\n",
    "\n",
    "im = array(Image.open('C:\\\\Users\\\\lenovo\\\\ImageProcess\\\\road.jpg').convert('L'))\n",
    "figure()\n",
    "hist(im.flatten(),256)\n",
    "\n",
    "im2,cdf = histeq(im)\n",
    "figure()\n",
    "hist(im2.flatten(),256)\n",
    "show()\n",
    "\n",
    "im2 = Image.fromarray(uint8(im2))\n",
    "im2.show()\n",
    "# print(cdf)\n",
    "#plot(cdf)\n",
    "im2.save(\"junheng.jpg\")"
   ]
  },
  {
   "cell_type": "markdown",
   "metadata": {},
   "source": [
    "### 2.3.2 直方图均衡化代码：使用Opencv"
   ]
  },
  {
   "cell_type": "code",
   "execution_count": 16,
   "metadata": {},
   "outputs": [],
   "source": [
    "import cv2\n",
    "import numpy as np\n",
    "img = cv2.imread(\"C:\\\\Users\\\\lenovo\\\\ImageProcess\\\\road.jpg\", 1)\n",
    "gray = cv2.cvtColor(img, cv2.COLOR_BGR2GRAY)\n",
    "cv2.imshow(\"src\", gray)\n",
    "histImgsrc = calcAndDrawHist(gray, [0, 0, 255])   #计算原图像直方图\n",
    "cv2.imshow(\"histsrc\", histImgsrc)  \n",
    "dst = cv2.equalizeHist(gray)\n",
    "cv2.imshow(\"dst\", dst)\n",
    "histImgdst = calcAndDrawHist(dst, [0, 255, 0])  #计算目标图像直方图\n",
    "cv2.imshow(\"histdst\", histImgdst) \n",
    "cv2.waitKey(0)\n",
    "cv2.destroyAllWindows()"
   ]
  },
  {
   "cell_type": "markdown",
   "metadata": {},
   "source": [
    "## 2.4 直方图规定化"
   ]
  },
  {
   "cell_type": "markdown",
   "metadata": {},
   "source": [
    "直方图规定化的基本思想：有目的的增强某个灰度区间的图像，即能够人为地修正直方图的形状，使之与期望的图像相匹配。\n",
    "直方图规定化是在运用均衡化原理的基础上，通过建立原始图像和期望图像之间的关系，选择地控制直方图，使原始图像的直方图变成规定的形状，从而弥补了直方图均衡不具备交互作用的特性。<br>\n",
    "下图所示：使用均衡化的直方图做媒介，再对参考图像最均衡化的逆运算即可。直方图均衡化是直方图规定化的桥梁。<br>\n",
    "<img src=\"imgs/imageSpeccurve.png\" width=\"40%\">\n",
    "计算过程：\n",
    "<img src=\"imgs/imageSpec.png\" width=\"40%\">\n",
    "算法步骤：\n",
    "1.  读取标准图像变成灰度图像，得到累计直方图\n",
    "2.  读取原图变成灰度图像，得到累计直方图\n",
    "3.  比较每个灰度级，得到映射关系：方法找到两个累积直方图距离最近的点\n",
    "4.  原图灰度映射到新的灰度"
   ]
  },
  {
   "cell_type": "code",
   "execution_count": 17,
   "metadata": {},
   "outputs": [],
   "source": [
    "## 实现直方图规定化的代码\n",
    "import cv2\n",
    "import numpy as np\n",
    "from matplotlib import pyplot as plt\n",
    "\n",
    "img1 = cv2.imread('imgs\\\\skyA.png')\n",
    "img2 = cv2.imread('imgs\\\\skyB.png')\n",
    "img_hsv1 = cv2.cvtColor(img1, cv2.COLOR_BGR2HSV)     # bgr转hsv \n",
    "img_hsv2 = cv2.cvtColor(img2, cv2.COLOR_BGR2HSV)\n",
    "color = ('h', 's', 'v')\n",
    "for i, col in enumerate(color):\n",
    "    # histr = cv2.calcHist([img_hsv1], [i], None, [256], [0, 256])\n",
    "    hist1, bins = np.histogram(img_hsv1[:, :, i].ravel(), 256, [0, 256])  \n",
    "    hist2, bins = np.histogram(img_hsv2[:, :, i].ravel(), 256, [0, 256])\n",
    "    cdf1 = hist1.cumsum()  # 灰度值0-255的累计值数组\n",
    "    cdf2 = hist2.cumsum()\n",
    "    cdf1_hist = hist1.cumsum() / cdf1.max()  # 灰度值的累计值的比率\n",
    "    cdf2_hist = hist2.cumsum() / cdf2.max()\n",
    "\n",
    "    diff_cdf = [[0 for j in range(256)] for k in range(256)]  # diff_cdf 里是每2个灰度值比率间的差值\n",
    "    for j in range(256):                                     \n",
    "        for k in range(256):\n",
    "            diff_cdf[j][k] = abs(cdf1_hist[j] - cdf2_hist[k])\n",
    "\n",
    "    lut = [0 for j in range(256)]        # 映射表\n",
    "    for j in range(256):\n",
    "        min = diff_cdf[j][0]\n",
    "        index = 0\n",
    "        for k in range(256):            # 直方图规定化的映射原理\n",
    "            if min > diff_cdf[j][k]:\n",
    "                min = diff_cdf[j][k]\n",
    "                index = k\n",
    "        lut[j] = ([j, index])\n",
    "\n",
    "    h = int(img_hsv1.shape[0])\n",
    "    w = int(img_hsv1.shape[1])\n",
    "    for j in range(h):                   # 对原图像进行灰度值的映射\n",
    "        for k in range(w):\n",
    "            img_hsv1[j, k, i] = lut[img_hsv1[j, k, i]][1]\n",
    "\n",
    "hsv_img1 = cv2.cvtColor(img_hsv1, cv2.COLOR_HSV2BGR)   # hsv转bgr\n",
    "hsv_img2 = cv2.cvtColor(img_hsv2, cv2.COLOR_HSV2BGR)\n",
    "\n",
    "cv2.namedWindow('firstpic', 0)\n",
    "#cv2.resizeWindow('firstpic', 670, 900)\n",
    "cv2.namedWindow('targetpic', 0)\n",
    "#cv2.resizeWindow('targetpic', 670, 900)\n",
    "cv2.namedWindow('defpic', 0)\n",
    "#cv2.resizeWindow('defpic', 670, 900)\n",
    "cv2.imshow('firstpic', img1)\n",
    "cv2.imshow('targetpic',img2)\n",
    "# cv2.imshow('img1', img_hsv1)\n",
    "cv2.imshow('defpic', hsv_img1)\n",
    "cv2.waitKey(0)\n",
    "cv2.destroyAllWindows()"
   ]
  },
  {
   "cell_type": "markdown",
   "metadata": {},
   "source": [
    "### 作业"
   ]
  },
  {
   "cell_type": "markdown",
   "metadata": {},
   "source": [
    "试编程实现图像灰度变换，变换公式如下：\n",
    "<center>$s=T(r)=\\frac{1}{1+(m/r)^E}$</center>\n",
    "其中：m和E是函数的两个参数，r是像素值，请调节m和E的值，对比输出图像的不同。绘制原始图像和变换后图像的直方图，比较m和E变化时直方图形状的变化。"
   ]
  },
  {
   "cell_type": "code",
   "execution_count": null,
   "metadata": {},
   "outputs": [],
   "source": []
  }
 ],
 "metadata": {
  "kernelspec": {
   "display_name": "Python 3",
   "language": "python",
   "name": "python3"
  },
  "language_info": {
   "codemirror_mode": {
    "name": "ipython",
    "version": 3
   },
   "file_extension": ".py",
   "mimetype": "text/x-python",
   "name": "python",
   "nbconvert_exporter": "python",
   "pygments_lexer": "ipython3",
   "version": "3.7.4"
  }
 },
 "nbformat": 4,
 "nbformat_minor": 2
}
