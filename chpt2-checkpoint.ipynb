{
 "cells": [
  {
   "cell_type": "markdown",
   "metadata": {},
   "source": [
    "# 2.1 直方图演示"
   ]
  },
  {
   "cell_type": "markdown",
   "metadata": {},
   "source": [
    "计算并显示直方图\n",
    "与C++中一样，在Python中调用的OpenCV直方图计算函数为cv2.calcHist。\n",
    "cv2.calcHist的原型为：\n",
    "   cv2.calcHist(images, channels, mask, histSize, ranges[, hist[, accumulate ]]) #返回hist\n",
    "其中\n",
    "第一个参数必须用方括号括起来。\n",
    "第二个参数是用于计算直方图的通道，这里使用灰度图计算直方图，所以就直接使用第一个通道；\n",
    "\n",
    "第三个参数是Mask，这里没有使用，所以用None。\n",
    "\n",
    "第四个参数是histSize，表示这个直方图分成多少份（即多少个直方柱）。第二个例子将绘出直方图，到时候会清楚一点。\n",
    "\n",
    "\n",
    "第五个参数是表示直方图中各个像素的值，[0.0, 256.0]表示直方图能表示像素值从0.0到256的像素。\n",
    "\n",
    "最后是两个可选参数，由于直方图作为函数结果返回了，所以第六个hist就没有意义了（待确定）\n",
    "\n",
    "最后一个accumulate是一个布尔值，用来表示直方图是否叠加。\n",
    "\n",
    "彩色图像不同通道的直方图"
   ]
  },
  {
   "cell_type": "markdown",
   "metadata": {},
   "source": [
    "下面来看下彩色图像的直方图处理。以最著名的lena.jpg为例，首先读取并分离各通道："
   ]
  },
  {
   "cell_type": "code",
   "execution_count": 1,
   "metadata": {},
   "outputs": [],
   "source": [
    "#引入相关的包\n",
    "import cv2\n",
    "import numpy as np\n",
    "import matplotlib.pyplot as plt\n"
   ]
  },
  {
   "cell_type": "code",
   "execution_count": 6,
   "metadata": {},
   "outputs": [],
   "source": [
    "#绘制直方图的函数\n",
    "def calcAndDrawHist(image, color):  \n",
    "    hist= cv2.calcHist([image], [0], None, [256], [0.0,255.0])  \n",
    "    minVal, maxVal, minLoc, maxLoc = cv2.minMaxLoc(hist)  \n",
    "    histImg = np.zeros([256,256,3], np.uint8)  \n",
    "    hpt = int(0.9* 256);  \n",
    "      \n",
    "    for h in range(256):  \n",
    "        intensity = int(hist[h]*hpt/maxVal)  \n",
    "        cv2.line(histImg,(h,256), (h,256-intensity), color)  \n",
    "          \n",
    "    return histImg; "
   ]
  },
  {
   "cell_type": "code",
   "execution_count": 7,
   "metadata": {},
   "outputs": [],
   "source": [
    "#绘制直方图\n",
    "img = cv2.imread('C:\\\\Users\\\\lenovo\\\\ImageProcess\\\\road.jpg')\n",
    "b, g, r = cv2.split(img) \n",
    "histImgB = calcAndDrawHist(b, [255, 0, 0])  \n",
    "histImgG = calcAndDrawHist(g, [0, 255, 0])  \n",
    "histImgR = calcAndDrawHist(r, [0, 0, 255])  \n",
    "cv2.imshow(\"histImgB\", histImgB)  \n",
    "cv2.imshow(\"histImgG\", histImgG)  \n",
    "cv2.imshow(\"histImgR\", histImgR)  \n",
    "cv2.imshow(\"Img\", img)  \n",
    "cv2.waitKey(0)  \n",
    "cv2.destroyAllWindows() "
   ]
  },
  {
   "cell_type": "markdown",
   "metadata": {},
   "source": [
    "# 2.2 灰度的线性变换"
   ]
  },
  {
   "cell_type": "code",
   "execution_count": null,
   "metadata": {},
   "outputs": [
    {
     "name": "stdout",
     "output_type": "stream",
     "text": [
      "A = 10,B = 254\n"
     ]
    }
   ],
   "source": [
    "#灰度图像的线性变换\n",
    "def grey_scale_linear(image):   \n",
    "    img_gray = cv2.cvtColor(image,cv2.COLOR_RGB2GRAY)\n",
    "    \n",
    "    rows,cols = img_gray.shape\n",
    "    flat_gray = img_gray.reshape((cols * rows,)).tolist()\n",
    "    A = min(flat_gray)\n",
    "    B = max(flat_gray)\n",
    "    print('A = %d,B = %d' %(A,B))\n",
    "    output = np.uint8(255 / (B - A) * (img_gray - A) + 0.5)\n",
    "    #output = np.uint8(img_gray*1.5)\n",
    "    return output\n",
    " \n",
    "src = cv2.imread('C:\\\\Users\\\\lenovo\\\\ImageProcess\\\\road.jpg')\n",
    "result = grey_scale_linear(src)  #调用线性变换\n",
    "cv2.imshow('src',cv2.cvtColor(src,cv2.COLOR_BGR2GRAY))\n",
    "cv2.imshow('result',result)\n",
    " \n",
    "cv2.waitKey()\n",
    "cv2.destroyAllWindows()"
   ]
  },
  {
   "cell_type": "code",
   "execution_count": null,
   "metadata": {},
   "outputs": [],
   "source": [
    "一.图像灰度线性变换原理\n",
    "图像的灰度线性变换是通过建立灰度映射来调整原始图像的灰度，从而改善图像的质量，凸显图像的细节，提高图像的对比度。灰度线性变换的计算公式如下所示：\n",
    "Db=f(Da)=aDa+\n",
    "该公式中DB表示灰度线性变换后的灰度值，DA表示变换前输入图像的灰度值，α和b为线性变换方程f(D)的参数，分别表示斜率和截距。\n",
    "\n",
    "当α=1，b=0时，保持原始图像\n",
    "当α=1，b!=0时，图像所有的灰度值上移或下移\n",
    "当α=-1，b=255时，原始图像的灰度值反转\n",
    "当α>1时，输出图像的对比度增强\n",
    "当0<α<1时，输出图像的对比度减小\n",
    "当α<0时，原始图像暗区域变亮，亮区域变暗，图像求补"
   ]
  },
  {
   "cell_type": "code",
   "execution_count": null,
   "metadata": {},
   "outputs": [],
   "source": [
    "#灰度图像的线性变换\n",
    "# -*- coding: utf-8 -*-\n",
    "import cv2  \n",
    "import numpy as np  \n",
    "import matplotlib.pyplot as plt\n",
    "\n",
    "#读取原始图像\n",
    "img = cv2.imread('C:\\\\Users\\\\lenovo\\\\ImageProcess\\\\road.jpg')\n",
    "\n",
    "#图像灰度转换\n",
    "grayImage = cv2.cvtColor(img, cv2.COLOR_BGR2GRAY)\n",
    "\n",
    "#获取图像高度和宽度\n",
    "height = grayImage.shape[0]\n",
    "width = grayImage.shape[1]\n",
    "\n",
    "#创建一幅图像\n",
    "result = np.zeros((height, width), np.uint8)\n",
    "\n",
    "#图像灰度上移变换 DB=DA+50\n",
    "for i in range(height):\n",
    "    for j in range(width):\n",
    "        \n",
    "        if (int(grayImage[i,j]+50) > 255):\n",
    "            gray = 255\n",
    "        else:\n",
    "            gray = int(grayImage[i,j]+50)\n",
    "            \n",
    "        result[i,j] = np.uint8(gray)\n",
    "\n",
    "#显示图像\n",
    "cv2.imshow(\"Gray Image\", grayImage)\n",
    "cv2.imshow(\"Result\", result)\n",
    "\n",
    "#等待显示\n",
    "cv2.waitKey(0)\n",
    "cv2.destroyAllWindows()\n"
   ]
  },
  {
   "cell_type": "code",
   "execution_count": null,
   "metadata": {},
   "outputs": [],
   "source": []
  }
 ],
 "metadata": {
  "kernelspec": {
   "display_name": "Python 3",
   "language": "python",
   "name": "python3"
  },
  "language_info": {
   "codemirror_mode": {
    "name": "ipython",
    "version": 3
   },
   "file_extension": ".py",
   "mimetype": "text/x-python",
   "name": "python",
   "nbconvert_exporter": "python",
   "pygments_lexer": "ipython3",
   "version": "3.7.4"
  }
 },
 "nbformat": 4,
 "nbformat_minor": 2
}
